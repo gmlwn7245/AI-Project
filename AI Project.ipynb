{
 "cells": [
  {
   "cell_type": "code",
   "execution_count": 13,
   "metadata": {},
   "outputs": [],
   "source": [
    "import math\n",
    "import numpy as np\n",
    "import pandas as pd\n",
    "import matplotlib.pyplot as plt\n",
    "\n",
    "import keras\n",
    "from keras.models import Sequential\n",
    "from keras.layers import Dense\n",
    "\n",
    "from sklearn.preprocessing import StandardScaler\n",
    "from sklearn.model_selection import train_test_split\n",
    "from sklearn.tree import DecisionTreeClassifier\n",
    "from sklearn.ensemble import RandomForestClassifier"
   ]
  },
  {
   "cell_type": "code",
   "execution_count": 59,
   "metadata": {},
   "outputs": [
    {
     "data": {
      "text/plain": [
       "7"
      ]
     },
     "execution_count": 59,
     "metadata": {},
     "output_type": "execute_result"
    }
   ],
   "source": [
    "df = pd.read_csv('Desktop/heart_chart_v2.csv')\n",
    "target = df['TenYearCHD'].values\n",
    "del df['TenYearCHD']\n",
    "df = df.drop(['male','cigsPerDay','currentSmoker','BPMeds','prevalentStroke','prevalentHyp','diabetes'],axis=\"columns\")\n",
    "df.shape[1]"
   ]
  },
  {
   "cell_type": "code",
   "execution_count": 54,
   "metadata": {},
   "outputs": [
    {
     "name": "stdout",
     "output_type": "stream",
     "text": [
      "2625\n"
     ]
    }
   ],
   "source": [
    "#test 퍼센트 지정\n",
    "seed=1000\n",
    "x_train, x_test, y_train, y_test = train_test_split(df.values, target,test_size=0.3, random_state=seed)\n",
    "print(len(x_train))"
   ]
  },
  {
   "cell_type": "code",
   "execution_count": 65,
   "metadata": {},
   "outputs": [],
   "source": [
    "#전처리 feature scaling\n",
    "sc = StandardScaler()\n",
    "x_trains = sc.fit_transform(x_train)\n",
    "x_tests = sc.transform(x_test)"
   ]
  },
  {
   "cell_type": "code",
   "execution_count": 82,
   "metadata": {},
   "outputs": [
    {
     "name": "stdout",
     "output_type": "stream",
     "text": [
      "Model: \"sequential_15\"\n",
      "_________________________________________________________________\n",
      "Layer (type)                 Output Shape              Param #   \n",
      "=================================================================\n",
      "dense_41 (Dense)             (None, 100)               800       \n",
      "_________________________________________________________________\n",
      "dense_42 (Dense)             (None, 50)                5050      \n",
      "_________________________________________________________________\n",
      "dense_43 (Dense)             (None, 7)                 357       \n",
      "_________________________________________________________________\n",
      "dense_44 (Dense)             (None, 1)                 8         \n",
      "=================================================================\n",
      "Total params: 6,215\n",
      "Trainable params: 6,215\n",
      "Non-trainable params: 0\n",
      "_________________________________________________________________\n"
     ]
    }
   ],
   "source": [
    "#인공신경망\n",
    "model = Sequential()\n",
    "model.add(Dense(100,activation='relu',input_dim=df.shape[1])) #input -> Hidden1\n",
    "model.add(Dense(50,activation='relu')) #Hidden1 -> Hidden2\n",
    "model.add(Dense(7,activation='relu')) #Hidden2 -> Hidden3\n",
    "model.add(Dense(1,activation='sigmoid')) #Hidden3 -> output"
   ]
  },
  {
   "cell_type": "code",
   "execution_count": 92,
   "metadata": {},
   "outputs": [
    {
     "name": "stdout",
     "output_type": "stream",
     "text": [
      "Model: \"sequential_15\"\n",
      "_________________________________________________________________\n",
      "Layer (type)                 Output Shape              Param #   \n",
      "=================================================================\n",
      "dense_41 (Dense)             (None, 100)               800       \n",
      "_________________________________________________________________\n",
      "dense_42 (Dense)             (None, 50)                5050      \n",
      "_________________________________________________________________\n",
      "dense_43 (Dense)             (None, 7)                 357       \n",
      "_________________________________________________________________\n",
      "dense_44 (Dense)             (None, 1)                 8         \n",
      "=================================================================\n",
      "Total params: 6,215\n",
      "Trainable params: 6,215\n",
      "Non-trainable params: 0\n",
      "_________________________________________________________________\n"
     ]
    }
   ],
   "source": [
    "#compile & train\n",
    "#adam : 경사 하강법\n",
    "model.compile(optimizer='adam',loss='binary_crossentropy',metrics=['accuracy'])\n",
    "model.summary()"
   ]
  },
  {
   "cell_type": "code",
   "execution_count": 95,
   "metadata": {
    "scrolled": false
   },
   "outputs": [
    {
     "name": "stdout",
     "output_type": "stream",
     "text": [
      "36/36 [==============================] - 0s 2ms/step - loss: 6.5662 - accuracy: 0.7851\n"
     ]
    },
    {
     "data": {
      "text/plain": [
       "array([[1.],\n",
       "       [1.],\n",
       "       [1.],\n",
       "       ...,\n",
       "       [1.],\n",
       "       [1.],\n",
       "       [1.]], dtype=float32)"
      ]
     },
     "execution_count": 95,
     "metadata": {},
     "output_type": "execute_result"
    }
   ],
   "source": [
    "#verbose : 학습 중 출력되는 문구 ( 0, 1, 2 값 가능)\n",
    "model.fit(x_trains,y_train,epochs=10,batch_size=32,verbose=0,validation_split=0.8)\n",
    "pred_all = model.evaluate(x_tests, y_test, batch_size=32)\n",
    "model.predict(x_test, batch_size=32)"
   ]
  }
 ],
 "metadata": {
  "kernelspec": {
   "display_name": "Python 3",
   "language": "python",
   "name": "python3"
  },
  "language_info": {
   "codemirror_mode": {
    "name": "ipython",
    "version": 3
   },
   "file_extension": ".py",
   "mimetype": "text/x-python",
   "name": "python",
   "nbconvert_exporter": "python",
   "pygments_lexer": "ipython3",
   "version": "3.8.3"
  }
 },
 "nbformat": 4,
 "nbformat_minor": 4
}
