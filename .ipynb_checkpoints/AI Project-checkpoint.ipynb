{
 "cells": [
  {
   "cell_type": "code",
   "execution_count": 169,
   "metadata": {},
   "outputs": [],
   "source": [
    "import math\n",
    "import numpy as np\n",
    "import seaborn as sns          #상관관계\n",
    "import pandas as pd\n",
    "import matplotlib.pyplot as plt\n",
    "\n",
    "import keras\n",
    "from keras.models import Sequential\n",
    "from keras.layers import Dense\n",
    "\n",
    "from sklearn.preprocessing import StandardScaler\n",
    "from sklearn.model_selection import train_test_split\n",
    "from sklearn.tree import DecisionTreeClassifier\n",
    "from sklearn.ensemble import RandomForestClassifier"
   ]
  },
  {
   "cell_type": "code",
   "execution_count": 170,
   "metadata": {},
   "outputs": [],
   "source": [
    "df = pd.read_csv('../Desktop/CHD.csv')\n",
    "df2 = pd.read_csv('../Desktop/CHD.csv')\n",
    "target = df['TenYearCHD'].values\n",
    "del df['TenYearCHD']\n",
    "df = df.drop(['cigsPerDay','currentSmoker','prevalentStroke','BMI','heartRate','prevalentHyp'],axis=\"columns\")"
   ]
  },
  {
   "cell_type": "code",
   "execution_count": 161,
   "metadata": {
    "scrolled": true
   },
   "outputs": [
    {
     "name": "stdout",
     "output_type": "stream",
     "text": [
      "male               0.096000\n",
      "age                0.231584\n",
      "currentSmoker      0.021709\n",
      "cigsPerDay         0.055920\n",
      "BPMeds             0.084740\n",
      "prevalentStroke    0.047684\n",
      "prevalentHyp       0.178615\n",
      "diabetes           0.093222\n",
      "totChol            0.089613\n",
      "sysBP              0.220108\n",
      "diaBP              0.148994\n",
      "BMI                0.084400\n",
      "heartRate          0.022658\n",
      "glucose            0.124117\n",
      "TenYearCHD         1.000000\n",
      "Name: TenYearCHD, dtype: float64\n"
     ]
    },
    {
     "data": {
      "text/plain": [
       "<Figure size 1440x1440 with 0 Axes>"
      ]
     },
     "metadata": {},
     "output_type": "display_data"
    }
   ],
   "source": [
    "#상관관계 -1부터 1까지 \n",
    "corrs = df2.corr(method='pearson')\n",
    "plt.figure(figsize=(20, 20))\n",
    "\n",
    "mask = np.zeros_like(corrs, dtype=np.bool)\n",
    "mask[np.triu_indices_from(mask)] = True\n",
    "\n",
    "#sns.heatmap(corrs, annot=True, cmap=\"RdYlBu_r\", mask=mask)\n",
    "#plt.show()\n",
    "print(corrs['TenYearCHD'])"
   ]
  },
  {
   "cell_type": "code",
   "execution_count": 163,
   "metadata": {},
   "outputs": [],
   "source": [
    "#test 퍼센트 지정\n",
    "seed=500\n",
    "x_train, x_test, y_train, y_test = train_test_split(df.values, target, test_size=0.3, random_state=seed)"
   ]
  },
  {
   "cell_type": "code",
   "execution_count": 164,
   "metadata": {},
   "outputs": [],
   "source": [
    "#전처리 feature scaling\n",
    "sc = StandardScaler()\n",
    "x_train_sc = sc.fit_transform(x_train)\n",
    "x_test_sc = sc.transform(x_test)"
   ]
  },
  {
   "cell_type": "code",
   "execution_count": 165,
   "metadata": {},
   "outputs": [],
   "source": [
    "#인공신경망\n",
    "model = Sequential()\n",
    "model.add(Dense(20,activation='relu',input_dim=df.shape[1]))\n",
    "model.add(Dense(10,activation='relu'))\n",
    "model.add(Dense(1,activation='sigmoid'))"
   ]
  },
  {
   "cell_type": "code",
   "execution_count": 166,
   "metadata": {
    "scrolled": false
   },
   "outputs": [
    {
     "name": "stdout",
     "output_type": "stream",
     "text": [
      "Model: \"sequential_6\"\n",
      "_________________________________________________________________\n",
      "Layer (type)                 Output Shape              Param #   \n",
      "=================================================================\n",
      "dense_18 (Dense)             (None, 20)                160       \n",
      "_________________________________________________________________\n",
      "dense_19 (Dense)             (None, 10)                210       \n",
      "_________________________________________________________________\n",
      "dense_20 (Dense)             (None, 1)                 11        \n",
      "=================================================================\n",
      "Total params: 381\n",
      "Trainable params: 381\n",
      "Non-trainable params: 0\n",
      "_________________________________________________________________\n"
     ]
    }
   ],
   "source": [
    "#compile & train\n",
    "#adam : 경사 하강법\n",
    "model.compile(optimizer='adam',loss='binary_crossentropy',metrics=['acc'])\n",
    "model.summary()"
   ]
  },
  {
   "cell_type": "code",
   "execution_count": 167,
   "metadata": {},
   "outputs": [
    {
     "name": "stdout",
     "output_type": "stream",
     "text": [
      "36/36 [==============================] - 0s 2ms/step - loss: 0.3920 - acc: 0.8561\n"
     ]
    }
   ],
   "source": [
    "#verbose : 학습 중 출력되는 문구 ( 0, 1, 2 값 가능)\n",
    "model.fit(x_train_sc,y_train,epochs=50,batch_size=32,verbose=0,validation_split=0.2)\n",
    "pred_percent = model.predict(x_test,batch_size=32)\n",
    "pred_all = model.evaluate(x_test_sc, y_test, batch_size=32)"
   ]
  },
  {
   "cell_type": "code",
   "execution_count": 172,
   "metadata": {
    "scrolled": false
   },
   "outputs": [
    {
     "name": "stdout",
     "output_type": "stream",
     "text": [
      "Accuracy : 85.61%\n",
      "[[1.]\n",
      " [1.]\n",
      " [1.]\n",
      " ...\n",
      " [1.]\n",
      " [1.]\n",
      " [1.]]\n",
      "[0 1 0 ... 0 0 0]\n"
     ]
    }
   ],
   "source": [
    "print('Accuracy : %.2f%%' %(pred_all[1]*100))\n",
    "print(pred_percent)\n",
    "print(y_test)"
   ]
  }
 ],
 "metadata": {
  "kernelspec": {
   "display_name": "Python 3",
   "language": "python",
   "name": "python3"
  },
  "language_info": {
   "codemirror_mode": {
    "name": "ipython",
    "version": 3
   },
   "file_extension": ".py",
   "mimetype": "text/x-python",
   "name": "python",
   "nbconvert_exporter": "python",
   "pygments_lexer": "ipython3",
   "version": "3.8.3"
  }
 },
 "nbformat": 4,
 "nbformat_minor": 4
}
